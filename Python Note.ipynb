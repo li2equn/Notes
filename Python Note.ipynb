{
 "cells": [
  {
   "cell_type": "markdown",
   "metadata": {},
   "source": [
    "## MultiThreading"
   ]
  },
  {
   "cell_type": "code",
   "execution_count": 2,
   "metadata": {},
   "outputs": [
    {
     "name": "stdout",
     "output_type": "stream",
     "text": [
      "Starting Thread-1\n",
      "Starting Thread-2\n",
      "Thread-1: Tue Oct 23 10:49:03 2018\n",
      "Thread-1: Tue Oct 23 10:49:04 2018\n",
      "Thread-2: Tue Oct 23 10:49:04 2018\n",
      "Thread-1: Tue Oct 23 10:49:05 2018\n",
      "Exiting Thread-1\n",
      "Thread-2: Tue Oct 23 10:49:06 2018\n",
      "Thread-2: Tue Oct 23 10:49:08 2018\n",
      "Exiting Thread-2\n",
      "Exiting Main Thread\n"
     ]
    }
   ],
   "source": [
    "#!/usr/bin/python3\n",
    "\n",
    "import threading\n",
    "import time\n",
    "\n",
    "exitFlag = 0\n",
    "\n",
    "class myThread (threading.Thread):\n",
    "    def __init__(self, threadID, name, counter):\n",
    "        threading.Thread.__init__(self)\n",
    "        self.threadID = threadID\n",
    "        self.name = name\n",
    "        self.counter = counter\n",
    "    def run(self):\n",
    "        print (\"Starting \" + self.name)\n",
    "        print_time(self.name, self.counter, 3)\n",
    "        print (\"Exiting \" + self.name)\n",
    "\n",
    "def print_time(threadName, delay, counter):\n",
    "    while counter:\n",
    "        if exitFlag:\n",
    "            threadName.exit()\n",
    "        time.sleep(delay)\n",
    "        print (\"%s: %s\" % (threadName, time.ctime(time.time())))\n",
    "        counter -= 1\n",
    "\n",
    "# Create new threads\n",
    "thread1 = myThread(1, \"Thread-1\", 1)\n",
    "thread2 = myThread(2, \"Thread-2\", 2)\n",
    "\n",
    "# Start new Threads\n",
    "thread1.start()\n",
    "thread2.start()\n",
    "thread1.join()\n",
    "thread2.join()\n",
    "print (\"Exiting Main Thread\")"
   ]
  },
  {
   "cell_type": "code",
   "execution_count": 3,
   "metadata": {},
   "outputs": [
    {
     "name": "stdout",
     "output_type": "stream",
     "text": [
      "Starting Thread-1\n",
      "Starting Thread-2\n",
      "Thread-1: Tue Oct 23 10:49:53 2018\n",
      "Thread-1: Tue Oct 23 10:49:54 2018\n",
      "Thread-1: Tue Oct 23 10:49:55 2018\n",
      "Thread-2: Tue Oct 23 10:49:57 2018\n",
      "Thread-2: Tue Oct 23 10:49:59 2018\n",
      "Thread-2: Tue Oct 23 10:50:01 2018\n",
      "Exiting Main Thread\n"
     ]
    }
   ],
   "source": [
    "import threading\n",
    "import time\n",
    "\n",
    "class myThread (threading.Thread):\n",
    "\n",
    "    def __init__(self, threadID, name, counter):\n",
    "        threading.Thread.__init__(self)\n",
    "        self.threadID = threadID\n",
    "        self.name = name\n",
    "        self.counter = counter\n",
    "    def run(self):\n",
    "        print (\"Starting \" + self.name)\n",
    "        # Get lock to synchronize threads\n",
    "        threadLock.acquire()\n",
    "        print_time(self.name, self.counter, 3)\n",
    "        # Free lock to release next thread\n",
    "        threadLock.release()\n",
    "\n",
    "def print_time(threadName, delay, counter):\n",
    "    while counter:\n",
    "        time.sleep(delay)\n",
    "        print (\"%s: %s\" % (threadName, time.ctime(time.time())))\n",
    "        counter -= 1\n",
    "\n",
    "threadLock = threading.Lock()\n",
    "threads = []\n",
    "\n",
    "# Create new threads\n",
    "thread1 = myThread(1, \"Thread-1\", 1)\n",
    "thread2 = myThread(2, \"Thread-2\", 2)\n",
    "\n",
    "# Start new Threads\n",
    "thread1.start()\n",
    "thread2.start()\n",
    "\n",
    "# Add threads to thread list\n",
    "threads.append(thread1)\n",
    "threads.append(thread2)\n",
    "\n",
    "# Wait for all threads to complete\n",
    "for t in threads:\n",
    "    t.join()\n",
    "print (\"Exiting Main Thread\")"
   ]
  },
  {
   "cell_type": "code",
   "execution_count": 2,
   "metadata": {},
   "outputs": [],
   "source": [
    "import queue\n",
    "import threading\n",
    "import time\n",
    "\n",
    "exitFlag = 0\n",
    "\n",
    "class myThread (threading.Thread):\n",
    "    def __init__(self, threadID, name, q):\n",
    "        threading.Thread.__init__(self)\n",
    "        self.threadID = threadID\n",
    "        self.name = name\n",
    "        self.q = q\n",
    "    def run(self):\n",
    "        print (\"Starting \" + self.name)\n",
    "        process_data(self.name, self.q)\n",
    "        print (\"Exiting \" + self.name)\n",
    "\n",
    "def process_data(threadName, q):\n",
    "    while not exitFlag:\n",
    "        queueLock.acquire()\n",
    "        print('wrw1')\n",
    "        if not workQueue.empty():\n",
    "            data = q.get()\n",
    "            print('wrw2')\n",
    "            queueLock.release()\n",
    "            print (\"%s processing %s\" % (threadName, data))\n",
    "        else:\n",
    "            queueLock.release()\n",
    "            print('wrw3')\n",
    "            time.sleep(1)"
   ]
  },
  {
   "cell_type": "code",
   "execution_count": 3,
   "metadata": {},
   "outputs": [
    {
     "name": "stdout",
     "output_type": "stream",
     "text": [
      "Starting Thread-1\n",
      "wrw1\n",
      "wrw3\n",
      "Starting Thread-2\n",
      "wrw1\n",
      "wrw3\n",
      "Starting Thread-3\n",
      "wrw1\n",
      "wrw3\n",
      "wrw1\n",
      "wrw2\n",
      "Thread-2 processing One\n",
      "wrw1\n",
      "wrw2\n",
      "Thread-3 processing Two\n",
      "wrw1\n",
      "wrw2\n",
      "Thread-1 processing Threewrw1\n",
      "wrw2\n",
      "Thread-2 processing Four\n",
      "wrw1\n",
      "wrw2\n",
      "Thread-3 processing Five\n",
      "wrw1\n",
      "wrw3\n",
      "\n",
      "Exiting Thread-1\n",
      "Exiting Thread-2\n",
      "Exiting Thread-3\n",
      "Exiting Main Thread\n"
     ]
    }
   ],
   "source": [
    "threadList = [\"Thread-1\", \"Thread-2\", \"Thread-3\"]\n",
    "nameList = [\"One\", \"Two\", \"Three\", \"Four\", \"Five\"]\n",
    "queueLock = threading.Lock()\n",
    "workQueue = queue.Queue(10)\n",
    "threads = []\n",
    "threadID = 1\n",
    "\n",
    "# Create new threads\n",
    "for tName in threadList:\n",
    "    thread = myThread(threadID, tName, workQueue)\n",
    "    thread.start()\n",
    "    threads.append(thread)\n",
    "    threadID += 1\n",
    "\n",
    "# Fill the queue\n",
    "queueLock.acquire()\n",
    "for word in nameList:\n",
    "    workQueue.put(word)\n",
    "queueLock.release()\n",
    "\n",
    "# Wait for queue to empty\n",
    "while not workQueue.empty():\n",
    "    pass\n",
    "\n",
    "# Notify threads it's time to exit\n",
    "exitFlag = 1\n",
    "\n",
    "# Wait for all threads to complete\n",
    "for t in threads:\n",
    "    t.join()\n",
    "print (\"Exiting Main Thread\")"
   ]
  },
  {
   "cell_type": "code",
   "execution_count": 1,
   "metadata": {},
   "outputs": [
    {
     "name": "stdout",
     "output_type": "stream",
     "text": [
      "Start: Tue Oct 23 10:35:36 2018\n",
      "End:   Tue Oct 23 10:35:41 2018\n",
      "20\n",
      "22\n"
     ]
    }
   ],
   "source": [
    "from queue import Queue\n",
    "from threading import Thread\n",
    "import time\n",
    "\n",
    "def f1(q, x):\n",
    "    # Sleep function added to compare execution times.\n",
    "    time.sleep(5)\n",
    "    # Instead of returning the result we put it in shared queue.\n",
    "    q.put(x * 2)\n",
    "\n",
    "def f2(q, x):\n",
    "    time.sleep(5)\n",
    "    q.put(x ^ 2)\n",
    "\n",
    "if __name__ == '__main__':\n",
    "    x1 = 10\n",
    "    x2 = 20\n",
    "    result_queue = Queue()\n",
    "\n",
    "    # We create two threads and pass shared queue to both of them.\n",
    "    t1 = Thread(target=f1, args=(result_queue, x1))\n",
    "    t2 = Thread(target=f2, args=(result_queue, x2))\n",
    "\n",
    "    # Starting threads...\n",
    "    print(\"Start: %s\" % time.ctime())\n",
    "    t1.start()\n",
    "    t2.start()\n",
    "\n",
    "    # Waiting for threads to finish execution...\n",
    "    t1.join()\n",
    "    t2.join()\n",
    "    print(\"End:   %s\" % time.ctime())\n",
    "\n",
    "    # After threads are done, we can read results from the queue.\n",
    "    while not result_queue.empty():\n",
    "        result = result_queue.get()\n",
    "        print(result)"
   ]
  },
  {
   "cell_type": "markdown",
   "metadata": {},
   "source": [
    "## Pass Continue Break"
   ]
  },
  {
   "cell_type": "code",
   "execution_count": 3,
   "metadata": {},
   "outputs": [
    {
     "name": "stdout",
     "output_type": "stream",
     "text": [
      "0\n",
      "1\n",
      "2\n",
      "3\n",
      "4\n",
      "5\n",
      "6\n",
      "7\n",
      "8\n",
      "9\n"
     ]
    }
   ],
   "source": [
    "for i in range(10):\n",
    "    if i == 5:\n",
    "        pass\n",
    "    print(i)"
   ]
  },
  {
   "cell_type": "code",
   "execution_count": 4,
   "metadata": {},
   "outputs": [
    {
     "name": "stdout",
     "output_type": "stream",
     "text": [
      "0\n",
      "1\n",
      "2\n",
      "3\n",
      "4\n",
      "6\n",
      "7\n",
      "8\n",
      "9\n"
     ]
    }
   ],
   "source": [
    "for i in range(10):\n",
    "    if i == 5:\n",
    "        continue\n",
    "    print(i)"
   ]
  },
  {
   "cell_type": "code",
   "execution_count": 5,
   "metadata": {},
   "outputs": [
    {
     "name": "stdout",
     "output_type": "stream",
     "text": [
      "0\n",
      "1\n",
      "2\n",
      "3\n",
      "4\n"
     ]
    }
   ],
   "source": [
    "for i in range(10):\n",
    "    if i == 5:\n",
    "        break\n",
    "    print(i)"
   ]
  },
  {
   "cell_type": "markdown",
   "metadata": {},
   "source": [
    "## Regular Expressions"
   ]
  },
  {
   "cell_type": "markdown",
   "metadata": {},
   "source": [
    "### match"
   ]
  },
  {
   "cell_type": "code",
   "execution_count": 7,
   "metadata": {},
   "outputs": [
    {
     "name": "stdout",
     "output_type": "stream",
     "text": [
      "matchObj.group() :  Cats are smarter than dogs\n",
      "matchObj.group(1) :  Cats\n",
      "matchObj.group(2) :  smarter\n"
     ]
    }
   ],
   "source": [
    "import re\n",
    "\n",
    "line = \"Cats are smarter than dogs\"\n",
    "\n",
    "matchObj = re.match( r'(.*) are (.*?) .*', line, re.M|re.I)\n",
    "\n",
    "if matchObj:\n",
    "    print (\"matchObj.group() : \", matchObj.group())\n",
    "    print (\"matchObj.group(1) : \", matchObj.group(1))\n",
    "    print (\"matchObj.group(2) : \", matchObj.group(2))\n",
    "else:\n",
    "    print (\"No match!!\")"
   ]
  },
  {
   "cell_type": "markdown",
   "metadata": {},
   "source": [
    "### search"
   ]
  },
  {
   "cell_type": "code",
   "execution_count": 8,
   "metadata": {},
   "outputs": [
    {
     "name": "stdout",
     "output_type": "stream",
     "text": [
      "searchObj.group() :  Cats are smarter than dogs\n",
      "searchObj.group(1) :  Cats\n",
      "searchObj.group(2) :  smarter\n"
     ]
    }
   ],
   "source": [
    "import re\n",
    "\n",
    "line = \"Cats are smarter than dogs\";\n",
    "\n",
    "searchObj = re.search( r'(.*) are (.*?) .*', line, re.M|re.I)\n",
    "\n",
    "if searchObj:\n",
    "    print (\"searchObj.group() : \", searchObj.group())\n",
    "    print (\"searchObj.group(1) : \", searchObj.group(1))\n",
    "    print (\"searchObj.group(2) : \", searchObj.group(2))\n",
    "else:\n",
    "    print (\"Nothing found!!\")"
   ]
  },
  {
   "cell_type": "markdown",
   "metadata": {},
   "source": [
    "### Replace"
   ]
  },
  {
   "cell_type": "code",
   "execution_count": 10,
   "metadata": {},
   "outputs": [
    {
     "name": "stdout",
     "output_type": "stream",
     "text": [
      "Phone Num :  2004-959-559 \n",
      "Phone Num :  2004959559\n"
     ]
    }
   ],
   "source": [
    "import re\n",
    "\n",
    "phone = \"2004-959-559 # This is Phone Number\"\n",
    "\n",
    "# Delete Python-style comments\n",
    "num = re.sub(r'#.*$', \"\", phone)\n",
    "print (\"Phone Num : \", num)\n",
    "\n",
    "# Remove anything other than digits\n",
    "num = re.sub(r'\\D', \"\", phone)    \n",
    "print (\"Phone Num : \", num)"
   ]
  },
  {
   "cell_type": "markdown",
   "metadata": {},
   "source": [
    "## Connect to MySQL Database and export as DataFrame"
   ]
  },
  {
   "cell_type": "code",
   "execution_count": 12,
   "metadata": {},
   "outputs": [],
   "source": [
    "import mysql.connector\n",
    "import pandas as pd\n",
    "#connect with mysql mt4 database\n",
    "#connect with mysql mt5 database\n",
    "\n",
    "mydb = mysql.connector.connect(\n",
    "    host=\"nnn.nn.nnn.nn\",\n",
    "    user='mt4_user',\n",
    "    password=\"xxxxxxxxxxx\",\n",
    "    database='mt4'\n",
    ")\n",
    "cur = mydb.cursor()\n",
    "query = (\n",
    "  \"SELECT LOGIN, COUNTRY, STATUS, BALANCE, CURRENCY FROM mt4_users WHERE (login BETWEEN 300000 AND 399999) OR(login BETWEEN 700000 AND 799999) OR(login BETWEEN 500000 AND 599999) \")\n",
    "cur.execute(query)\n",
    "accounts = pd.DataFrame(cur.fetchall(),columns = ['LOGIN', 'COUNTRY', 'STATUS', 'BALANCE', 'CURRENCY'])"
   ]
  },
  {
   "cell_type": "markdown",
   "metadata": {},
   "source": [
    "## Date and Time"
   ]
  },
  {
   "cell_type": "markdown",
   "metadata": {},
   "source": [
    "## timestamp to datetime or time "
   ]
  },
  {
   "cell_type": "code",
   "execution_count": 16,
   "metadata": {},
   "outputs": [
    {
     "data": {
      "text/plain": [
       "time.struct_time(tm_year=2018, tm_mon=10, tm_mday=1, tm_hour=2, tm_min=9, tm_sec=18, tm_wday=0, tm_yday=274, tm_isdst=0)"
      ]
     },
     "execution_count": 16,
     "metadata": {},
     "output_type": "execute_result"
    }
   ],
   "source": [
    "import time\n",
    "ts = 1538359758\n",
    "time.gmtime(ts)"
   ]
  },
  {
   "cell_type": "markdown",
   "metadata": {},
   "source": [
    "## time to string in format"
   ]
  },
  {
   "cell_type": "code",
   "execution_count": 18,
   "metadata": {},
   "outputs": [
    {
     "data": {
      "text/plain": [
       "'2018.10.01 02:09:18 Eastern Standard Time'"
      ]
     },
     "execution_count": 18,
     "metadata": {},
     "output_type": "execute_result"
    }
   ],
   "source": [
    "time.strftime(\"%Y.%m.%d %H:%M:%S %Z\",time.gmtime(ts))"
   ]
  },
  {
   "cell_type": "markdown",
   "metadata": {},
   "source": [
    "## string to time"
   ]
  },
  {
   "cell_type": "code",
   "execution_count": 21,
   "metadata": {},
   "outputs": [
    {
     "data": {
      "text/plain": [
       "time.struct_time(tm_year=2018, tm_mon=10, tm_mday=24, tm_hour=0, tm_min=0, tm_sec=0, tm_wday=2, tm_yday=297, tm_isdst=-1)"
      ]
     },
     "execution_count": 21,
     "metadata": {},
     "output_type": "execute_result"
    }
   ],
   "source": [
    "string = '2018-10-24'\n",
    "time.strptime(string,\"%Y-%m-%d\")"
   ]
  },
  {
   "cell_type": "code",
   "execution_count": 24,
   "metadata": {},
   "outputs": [
    {
     "data": {
      "text/plain": [
       "time.struct_time(tm_year=2018, tm_mon=10, tm_mday=24, tm_hour=0, tm_min=0, tm_sec=0, tm_wday=2, tm_yday=297, tm_isdst=-1)"
      ]
     },
     "execution_count": 24,
     "metadata": {},
     "output_type": "execute_result"
    }
   ],
   "source": [
    "string2  = '2018-Oct-24'\n",
    "time.strptime(string2,\"%Y-%b-%d\")"
   ]
  },
  {
   "cell_type": "markdown",
   "metadata": {},
   "source": [
    "## lambda function"
   ]
  },
  {
   "cell_type": "code",
   "execution_count": 27,
   "metadata": {},
   "outputs": [],
   "source": [
    "list_a =[1,2,3,4,5,6,7,8,9,10]"
   ]
  },
  {
   "cell_type": "code",
   "execution_count": 31,
   "metadata": {},
   "outputs": [
    {
     "name": "stdout",
     "output_type": "stream",
     "text": [
      "[2, 4, 6, 8, 10, 12, 14, 16, 18, 20]\n"
     ]
    }
   ],
   "source": [
    "#multiply 2 for every element in the list_a\n",
    "list_b = list(map(lambda x: x*2, list_a))\n",
    "print(list_b)"
   ]
  },
  {
   "cell_type": "code",
   "execution_count": 32,
   "metadata": {},
   "outputs": [
    {
     "name": "stdout",
     "output_type": "stream",
     "text": [
      "[2, 4, 6, 8, 10]\n"
     ]
    }
   ],
   "source": [
    "#select element are even numbers\n",
    "list_b = list(filter(lambda x: x%2==0, list_a))\n",
    "print(list_b)"
   ]
  },
  {
   "cell_type": "code",
   "execution_count": 34,
   "metadata": {},
   "outputs": [
    {
     "name": "stdout",
     "output_type": "stream",
     "text": [
      "3628800\n"
     ]
    }
   ],
   "source": [
    "#multiply all of them\n",
    "from functools import reduce\n",
    "list_b = reduce(lambda x,y: x*y, list_a)\n",
    "print(list_b)"
   ]
  },
  {
   "cell_type": "markdown",
   "metadata": {},
   "source": [
    "## DataFrame map dictionary"
   ]
  },
  {
   "cell_type": "code",
   "execution_count": 35,
   "metadata": {},
   "outputs": [],
   "source": [
    "dic = {\n",
    "    'one':1\n",
    "    ,'two':2\n",
    "    ,'three':3\n",
    "    ,'four':4\n",
    "}"
   ]
  },
  {
   "cell_type": "code",
   "execution_count": 36,
   "metadata": {},
   "outputs": [],
   "source": [
    "import pandas as pd\n",
    "\n",
    "df = pd.DataFrame({'col1': ['one', 'three'], 'col2': ['abd', 'ccc']})"
   ]
  },
  {
   "cell_type": "code",
   "execution_count": 37,
   "metadata": {},
   "outputs": [
    {
     "data": {
      "text/html": [
       "<div>\n",
       "<style scoped>\n",
       "    .dataframe tbody tr th:only-of-type {\n",
       "        vertical-align: middle;\n",
       "    }\n",
       "\n",
       "    .dataframe tbody tr th {\n",
       "        vertical-align: top;\n",
       "    }\n",
       "\n",
       "    .dataframe thead th {\n",
       "        text-align: right;\n",
       "    }\n",
       "</style>\n",
       "<table border=\"1\" class=\"dataframe\">\n",
       "  <thead>\n",
       "    <tr style=\"text-align: right;\">\n",
       "      <th></th>\n",
       "      <th>col1</th>\n",
       "      <th>col2</th>\n",
       "    </tr>\n",
       "  </thead>\n",
       "  <tbody>\n",
       "    <tr>\n",
       "      <th>0</th>\n",
       "      <td>one</td>\n",
       "      <td>abd</td>\n",
       "    </tr>\n",
       "    <tr>\n",
       "      <th>1</th>\n",
       "      <td>three</td>\n",
       "      <td>ccc</td>\n",
       "    </tr>\n",
       "  </tbody>\n",
       "</table>\n",
       "</div>"
      ],
      "text/plain": [
       "    col1 col2\n",
       "0    one  abd\n",
       "1  three  ccc"
      ]
     },
     "execution_count": 37,
     "metadata": {},
     "output_type": "execute_result"
    }
   ],
   "source": [
    "df"
   ]
  },
  {
   "cell_type": "code",
   "execution_count": 39,
   "metadata": {},
   "outputs": [],
   "source": [
    "df['new_col']=df['col1'].map(dic)"
   ]
  },
  {
   "cell_type": "code",
   "execution_count": 40,
   "metadata": {},
   "outputs": [
    {
     "data": {
      "text/html": [
       "<div>\n",
       "<style scoped>\n",
       "    .dataframe tbody tr th:only-of-type {\n",
       "        vertical-align: middle;\n",
       "    }\n",
       "\n",
       "    .dataframe tbody tr th {\n",
       "        vertical-align: top;\n",
       "    }\n",
       "\n",
       "    .dataframe thead th {\n",
       "        text-align: right;\n",
       "    }\n",
       "</style>\n",
       "<table border=\"1\" class=\"dataframe\">\n",
       "  <thead>\n",
       "    <tr style=\"text-align: right;\">\n",
       "      <th></th>\n",
       "      <th>col1</th>\n",
       "      <th>col2</th>\n",
       "      <th>new_col</th>\n",
       "    </tr>\n",
       "  </thead>\n",
       "  <tbody>\n",
       "    <tr>\n",
       "      <th>0</th>\n",
       "      <td>one</td>\n",
       "      <td>abd</td>\n",
       "      <td>1</td>\n",
       "    </tr>\n",
       "    <tr>\n",
       "      <th>1</th>\n",
       "      <td>three</td>\n",
       "      <td>ccc</td>\n",
       "      <td>3</td>\n",
       "    </tr>\n",
       "  </tbody>\n",
       "</table>\n",
       "</div>"
      ],
      "text/plain": [
       "    col1 col2  new_col\n",
       "0    one  abd        1\n",
       "1  three  ccc        3"
      ]
     },
     "execution_count": 40,
     "metadata": {},
     "output_type": "execute_result"
    }
   ],
   "source": [
    "df"
   ]
  },
  {
   "cell_type": "markdown",
   "metadata": {},
   "source": [
    "## convert dataframe to dictionary"
   ]
  },
  {
   "cell_type": "code",
   "execution_count": 41,
   "metadata": {},
   "outputs": [],
   "source": [
    "df = df.set_index('col1')\n",
    "df_dict = df.to_dict()"
   ]
  },
  {
   "cell_type": "code",
   "execution_count": 42,
   "metadata": {},
   "outputs": [
    {
     "data": {
      "text/plain": [
       "{'col2': {'one': 'abd', 'three': 'ccc'}, 'new_col': {'one': 1, 'three': 3}}"
      ]
     },
     "execution_count": 42,
     "metadata": {},
     "output_type": "execute_result"
    }
   ],
   "source": [
    "df_dict"
   ]
  },
  {
   "cell_type": "markdown",
   "metadata": {},
   "source": [
    "## Class"
   ]
  },
  {
   "cell_type": "code",
   "execution_count": 52,
   "metadata": {},
   "outputs": [],
   "source": [
    "class equity(object):\n",
    "    def __init__(self,price,ticker,category):\n",
    "        self._price = price\n",
    "        self._ticker = ticker\n",
    "        self._category = category\n",
    "    def getPrice(self):\n",
    "        return self._price\n",
    "    def getTicker(self):\n",
    "        return self._ticker"
   ]
  },
  {
   "cell_type": "code",
   "execution_count": 53,
   "metadata": {},
   "outputs": [],
   "source": [
    "AAPL = equity(215,'AAPL','stock')"
   ]
  },
  {
   "cell_type": "code",
   "execution_count": 54,
   "metadata": {},
   "outputs": [
    {
     "data": {
      "text/plain": [
       "215"
      ]
     },
     "execution_count": 54,
     "metadata": {},
     "output_type": "execute_result"
    }
   ],
   "source": [
    "AAPL.getPrice()"
   ]
  },
  {
   "cell_type": "code",
   "execution_count": 55,
   "metadata": {},
   "outputs": [
    {
     "data": {
      "text/plain": [
       "'AAPL'"
      ]
     },
     "execution_count": 55,
     "metadata": {},
     "output_type": "execute_result"
    }
   ],
   "source": [
    "AAPL.getTicker()"
   ]
  },
  {
   "cell_type": "code",
   "execution_count": 56,
   "metadata": {},
   "outputs": [],
   "source": [
    "class stock(equity):\n",
    "    def __init__(self,price,ticker):\n",
    "        equity.__init__(self,price,ticker,'stock')"
   ]
  },
  {
   "cell_type": "code",
   "execution_count": 57,
   "metadata": {},
   "outputs": [],
   "source": [
    "GOOG = stock(1050,'GOOG')"
   ]
  },
  {
   "cell_type": "code",
   "execution_count": 58,
   "metadata": {},
   "outputs": [
    {
     "data": {
      "text/plain": [
       "1050"
      ]
     },
     "execution_count": 58,
     "metadata": {},
     "output_type": "execute_result"
    }
   ],
   "source": [
    "GOOG.getPrice()"
   ]
  },
  {
   "cell_type": "code",
   "execution_count": 59,
   "metadata": {},
   "outputs": [
    {
     "data": {
      "text/plain": [
       "'GOOG'"
      ]
     },
     "execution_count": 59,
     "metadata": {},
     "output_type": "execute_result"
    }
   ],
   "source": [
    "GOOG.getTicker()"
   ]
  },
  {
   "cell_type": "code",
   "execution_count": 60,
   "metadata": {},
   "outputs": [
    {
     "data": {
      "text/plain": [
       "False"
      ]
     },
     "execution_count": 60,
     "metadata": {},
     "output_type": "execute_result"
    }
   ],
   "source": [
    "isinstance(AAPL,stock)"
   ]
  },
  {
   "cell_type": "code",
   "execution_count": 61,
   "metadata": {},
   "outputs": [
    {
     "data": {
      "text/plain": [
       "True"
      ]
     },
     "execution_count": 61,
     "metadata": {},
     "output_type": "execute_result"
    }
   ],
   "source": [
    "isinstance(GOOG,stock)"
   ]
  },
  {
   "cell_type": "code",
   "execution_count": 62,
   "metadata": {},
   "outputs": [
    {
     "data": {
      "text/plain": [
       "True"
      ]
     },
     "execution_count": 62,
     "metadata": {},
     "output_type": "execute_result"
    }
   ],
   "source": [
    "isinstance(AAPL,equity)"
   ]
  },
  {
   "cell_type": "code",
   "execution_count": 63,
   "metadata": {},
   "outputs": [
    {
     "data": {
      "text/plain": [
       "True"
      ]
     },
     "execution_count": 63,
     "metadata": {},
     "output_type": "execute_result"
    }
   ],
   "source": [
    "isinstance(GOOG,equity)"
   ]
  },
  {
   "cell_type": "code",
   "execution_count": 65,
   "metadata": {},
   "outputs": [
    {
     "data": {
      "text/plain": [
       "True"
      ]
     },
     "execution_count": 65,
     "metadata": {},
     "output_type": "execute_result"
    }
   ],
   "source": [
    "issubclass(stock,equity)"
   ]
  },
  {
   "cell_type": "markdown",
   "metadata": {},
   "source": [
    "## Selenium"
   ]
  },
  {
   "cell_type": "code",
   "execution_count": 69,
   "metadata": {},
   "outputs": [
    {
     "name": "stderr",
     "output_type": "stream",
     "text": [
      "C:\\Users\\Intern\\Anaconda3\\lib\\site-packages\\ipykernel_launcher.py:17: DeprecationWarning: use options instead of chrome_options\n"
     ]
    }
   ],
   "source": [
    "from selenium import webdriver\n",
    "from selenium.webdriver.common.by import By\n",
    "from selenium.webdriver.support.ui import WebDriverWait\n",
    "from selenium.webdriver.support import expected_conditions as EC\n",
    "from selenium.webdriver.common.keys import Keys\n",
    "\n",
    "options = webdriver.ChromeOptions()\n",
    "\n",
    "#set chrome to automatically download document in specified file path\n",
    "filepath = 'C:/Users/Intern/Downloads'\n",
    "profile = {\"plugins.plugins_list\": [{\"enabled\": False, \"name\": \"Chrome PDF Viewer\"}], # Disable Chrome's PDF Viewer\n",
    "               \"download.default_directory\": filepath , \"download.extensions_to_open\": \"applications/pdf\"}\n",
    "options.add_experimental_option(\"prefs\", profile)\n",
    "\n",
    "\n",
    "# Optional argument, if not specified will search path.\n",
    "driver = webdriver.Chrome('C:/Users/Intern/Downloads/chromedriver_win32/chromedriver.exe',chrome_options=options)\n",
    "        \n",
    "#open a website\n",
    "driver.get('https://www.google.com/')\n",
    "\n",
    "#set the maximum wait time 60 seconds\n",
    "wait = WebDriverWait(driver, 60)\n",
    "\n",
    "#maximize window\n",
    "driver.maximize_window()\n",
    "\n",
    "#wait until some element loaded the search box\n",
    "#you can also wait until some element visible or invisible\n",
    "wait.until(EC.presence_of_element_located((By.NAME, 'q')))\n",
    "\n",
    "#sent strings to the searchbox like ZequnLi\n",
    "driver.find_element_by_name('q').send_keys('Zequn Li')\n",
    "#enter keys when focused on this element\n",
    "#you can also perform click\n",
    "driver.find_element_by_name('q').send_keys(Keys.ENTER)\n",
    "\n",
    "time.sleep(3)\n",
    "\n",
    "#close chrome\n",
    "driver.quit()"
   ]
  },
  {
   "cell_type": "markdown",
   "metadata": {},
   "source": [
    "## Miscellaneous operating system interfaces"
   ]
  },
  {
   "cell_type": "code",
   "execution_count": 70,
   "metadata": {},
   "outputs": [],
   "source": [
    "import os\n",
    "from os import access, R_OK\n",
    "import shutil\n"
   ]
  },
  {
   "cell_type": "code",
   "execution_count": 75,
   "metadata": {},
   "outputs": [],
   "source": [
    "#check if a path exists or if you have access\n",
    "baseDir = 'C:/Users/Intern/Documents/ZEQUN LI/code/compliance/sourcefile'\n",
    "if not os.path.exists( baseDir ):\n",
    "    raise Exception( \"%s does not exist\" % baseDir )\n",
    "if( not access( baseDir, R_OK ) ):\n",
    "    raise Exception( \"You don't have access to directory %s\" % baseDir )"
   ]
  },
  {
   "cell_type": "code",
   "execution_count": 76,
   "metadata": {},
   "outputs": [
    {
     "data": {
      "text/plain": [
       "['Au10tix.py',\n",
       " 'credentials.json',\n",
       " 'credentials_gmail.json',\n",
       " 'Doc.docx',\n",
       " 'DriveManager.py',\n",
       " 'FileManager.py',\n",
       " 'IdentityMind.py',\n",
       " 'IndividualAgreement.py',\n",
       " 'Main.py',\n",
       " 'MessageManager.py',\n",
       " 'multithreading.py',\n",
       " 'outfile',\n",
       " 'reportlog',\n",
       " 'reportlog.txt',\n",
       " 'Test_au10tix.py',\n",
       " 'Test_driverManager.py',\n",
       " 'Test_fileManager.py',\n",
       " 'Test_identityMind.py',\n",
       " 'Test_individualAgreement.py',\n",
       " 'Test_messageManager.py',\n",
       " 'Test_worldCheck.py',\n",
       " 'token.json',\n",
       " 'token_gmail.json',\n",
       " 'WorldCheck.py',\n",
       " '__pycache__']"
      ]
     },
     "execution_count": 76,
     "metadata": {},
     "output_type": "execute_result"
    }
   ],
   "source": [
    "#list all the files in the directory\n",
    "os.listdir(baseDir)"
   ]
  },
  {
   "cell_type": "code",
   "execution_count": 77,
   "metadata": {},
   "outputs": [
    {
     "name": "stdout",
     "output_type": "stream",
     "text": [
      ".py\n",
      ".json\n",
      ".json\n",
      ".docx\n",
      ".py\n",
      ".py\n",
      ".py\n",
      ".py\n",
      ".py\n",
      ".py\n",
      ".py\n",
      "\n",
      "\n",
      ".txt\n",
      ".py\n",
      ".py\n",
      ".py\n",
      ".py\n",
      ".py\n",
      ".py\n",
      ".py\n",
      ".json\n",
      ".json\n",
      ".py\n",
      "\n"
     ]
    }
   ],
   "source": [
    "#get extension of a file\n",
    "for filename in os.listdir(baseDir):\n",
    "    extension = os.path.splitext(filename)[1]\n",
    "    print(extension)"
   ]
  },
  {
   "cell_type": "code",
   "execution_count": 82,
   "metadata": {},
   "outputs": [
    {
     "name": "stdout",
     "output_type": "stream",
     "text": [
      "new folder created\n"
     ]
    }
   ],
   "source": [
    "#create foler\n",
    "newfolder = 'newfolder'\n",
    "os.makedirs(baseDir+'/'+newfolder)\n",
    "if newfolder in os.listdir(baseDir):\n",
    "    print('new folder created')"
   ]
  },
  {
   "cell_type": "code",
   "execution_count": 83,
   "metadata": {},
   "outputs": [],
   "source": [
    "#delete folder\n",
    "shutil.rmtree(baseDir+'/'+newfolder)"
   ]
  },
  {
   "cell_type": "markdown",
   "metadata": {},
   "source": [
    "## Performance"
   ]
  },
  {
   "cell_type": "code",
   "execution_count": 1,
   "metadata": {},
   "outputs": [
    {
     "name": "stdout",
     "output_type": "stream",
     "text": [
      "deque 0.026980548745258535\n",
      "Queue 5.016959098573591\n"
     ]
    }
   ],
   "source": [
    "import time\n",
    "from multiprocessing import Queue\n",
    "import collections\n",
    "\n",
    "q = collections.deque()\n",
    "t0 = time.clock()\n",
    "for i in range(100000):\n",
    "    q.append(1)\n",
    "for i in range(100000):\n",
    "    q.popleft()\n",
    "print ('deque', time.clock() - t0)\n",
    "\n",
    "q = Queue(200000)\n",
    "t0 = time.clock()\n",
    "for i in range(100000):\n",
    "    q.put(1)\n",
    "for i in range(100000):\n",
    "    q.get()\n",
    "print ('Queue', time.clock() - t0)\n",
    "\n"
   ]
  }
 ],
 "metadata": {
  "kernelspec": {
   "display_name": "Python 3",
   "language": "python",
   "name": "python3"
  },
  "language_info": {
   "codemirror_mode": {
    "name": "ipython",
    "version": 3
   },
   "file_extension": ".py",
   "mimetype": "text/x-python",
   "name": "python",
   "nbconvert_exporter": "python",
   "pygments_lexer": "ipython3",
   "version": "3.6.5"
  }
 },
 "nbformat": 4,
 "nbformat_minor": 2
}
